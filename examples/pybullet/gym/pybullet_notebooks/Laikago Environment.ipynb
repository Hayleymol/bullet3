{
 "cells": [
  {
   "cell_type": "code",
   "execution_count": 1,
   "metadata": {
    "scrolled": true
   },
   "outputs": [
    {
     "name": "stderr",
     "output_type": "stream",
     "text": [
      "/home/hayley/anaconda3/envs/benelot/lib/python3.5/site-packages/tensorflow/python/framework/dtypes.py:516: FutureWarning: Passing (type, 1) or '1type' as a synonym of type is deprecated; in a future version of numpy, it will be understood as (type, (1,)) / '(1,)type'.\n",
      "  _np_qint8 = np.dtype([(\"qint8\", np.int8, 1)])\n",
      "/home/hayley/anaconda3/envs/benelot/lib/python3.5/site-packages/tensorflow/python/framework/dtypes.py:517: FutureWarning: Passing (type, 1) or '1type' as a synonym of type is deprecated; in a future version of numpy, it will be understood as (type, (1,)) / '(1,)type'.\n",
      "  _np_quint8 = np.dtype([(\"quint8\", np.uint8, 1)])\n",
      "/home/hayley/anaconda3/envs/benelot/lib/python3.5/site-packages/tensorflow/python/framework/dtypes.py:518: FutureWarning: Passing (type, 1) or '1type' as a synonym of type is deprecated; in a future version of numpy, it will be understood as (type, (1,)) / '(1,)type'.\n",
      "  _np_qint16 = np.dtype([(\"qint16\", np.int16, 1)])\n",
      "/home/hayley/anaconda3/envs/benelot/lib/python3.5/site-packages/tensorflow/python/framework/dtypes.py:519: FutureWarning: Passing (type, 1) or '1type' as a synonym of type is deprecated; in a future version of numpy, it will be understood as (type, (1,)) / '(1,)type'.\n",
      "  _np_quint16 = np.dtype([(\"quint16\", np.uint16, 1)])\n",
      "/home/hayley/anaconda3/envs/benelot/lib/python3.5/site-packages/tensorflow/python/framework/dtypes.py:520: FutureWarning: Passing (type, 1) or '1type' as a synonym of type is deprecated; in a future version of numpy, it will be understood as (type, (1,)) / '(1,)type'.\n",
      "  _np_qint32 = np.dtype([(\"qint32\", np.int32, 1)])\n",
      "/home/hayley/anaconda3/envs/benelot/lib/python3.5/site-packages/tensorflow/python/framework/dtypes.py:525: FutureWarning: Passing (type, 1) or '1type' as a synonym of type is deprecated; in a future version of numpy, it will be understood as (type, (1,)) / '(1,)type'.\n",
      "  np_resource = np.dtype([(\"resource\", np.ubyte, 1)])\n",
      "/home/hayley/anaconda3/envs/benelot/lib/python3.5/site-packages/tensorboard/compat/tensorflow_stub/dtypes.py:541: FutureWarning: Passing (type, 1) or '1type' as a synonym of type is deprecated; in a future version of numpy, it will be understood as (type, (1,)) / '(1,)type'.\n",
      "  _np_qint8 = np.dtype([(\"qint8\", np.int8, 1)])\n",
      "/home/hayley/anaconda3/envs/benelot/lib/python3.5/site-packages/tensorboard/compat/tensorflow_stub/dtypes.py:542: FutureWarning: Passing (type, 1) or '1type' as a synonym of type is deprecated; in a future version of numpy, it will be understood as (type, (1,)) / '(1,)type'.\n",
      "  _np_quint8 = np.dtype([(\"quint8\", np.uint8, 1)])\n",
      "/home/hayley/anaconda3/envs/benelot/lib/python3.5/site-packages/tensorboard/compat/tensorflow_stub/dtypes.py:543: FutureWarning: Passing (type, 1) or '1type' as a synonym of type is deprecated; in a future version of numpy, it will be understood as (type, (1,)) / '(1,)type'.\n",
      "  _np_qint16 = np.dtype([(\"qint16\", np.int16, 1)])\n",
      "/home/hayley/anaconda3/envs/benelot/lib/python3.5/site-packages/tensorboard/compat/tensorflow_stub/dtypes.py:544: FutureWarning: Passing (type, 1) or '1type' as a synonym of type is deprecated; in a future version of numpy, it will be understood as (type, (1,)) / '(1,)type'.\n",
      "  _np_quint16 = np.dtype([(\"quint16\", np.uint16, 1)])\n",
      "/home/hayley/anaconda3/envs/benelot/lib/python3.5/site-packages/tensorboard/compat/tensorflow_stub/dtypes.py:545: FutureWarning: Passing (type, 1) or '1type' as a synonym of type is deprecated; in a future version of numpy, it will be understood as (type, (1,)) / '(1,)type'.\n",
      "  _np_qint32 = np.dtype([(\"qint32\", np.int32, 1)])\n",
      "/home/hayley/anaconda3/envs/benelot/lib/python3.5/site-packages/tensorboard/compat/tensorflow_stub/dtypes.py:550: FutureWarning: Passing (type, 1) or '1type' as a synonym of type is deprecated; in a future version of numpy, it will be understood as (type, (1,)) / '(1,)type'.\n",
      "  np_resource = np.dtype([(\"resource\", np.ubyte, 1)])\n"
     ]
    }
   ],
   "source": [
    "import gym\n",
    "import pybullet as p\n",
    "import pybullet_data as pd\n",
    "\n",
    "import time\n",
    "\n",
    "\n",
    "from stable_baselines import PPO2\n",
    "from stable_baselines.common.evaluation import evaluate_policy"
   ]
  },
  {
   "cell_type": "code",
   "execution_count": 2,
   "metadata": {},
   "outputs": [],
   "source": [
    "pybullet_client = p\n",
    "p.connect(p.GUI)\n",
    "p.setAdditionalSearchPath(pd.getDataPath())\n",
    "\n",
    "plane = p.loadURDF(\"plane.urdf\")\n",
    "p.setGravity(0, 0, -9.8)\n",
    "p.setTimeStep(1. / 500)\n",
    "urdfFlags = p.URDF_USE_SELF_COLLISION\n",
    "\n",
    "p.getCameraImage(480, 320)\n",
    "p.setRealTimeSimulation(0)\n",
    "\n",
    "timeStep = 1. / 500"
   ]
  },
  {
   "cell_type": "code",
   "execution_count": 7,
   "metadata": {},
   "outputs": [],
   "source": [
    "from pybullet_utils import pd_controller_stable\n",
    "import math\n",
    "\n",
    "\n",
    "class QuadrupedStablePD(object):\n",
    "\n",
    "    def __init__(self, pybullet_client, timeStep, useFixedBase=True):\n",
    "        self._pybullet_client = pybullet_client\n",
    "\n",
    "        print(\"LOADING quadruped!\")\n",
    "\n",
    "        startPos = [0.007058990464444105, 0.03149299192130908, 0.4918981912395484]\n",
    "        startOrn = [\n",
    "            0.005934649695708604, 0.7065453990917289, 0.7076373820553712, -0.0027774940359030264\n",
    "        ]\n",
    "        self._sim_model = self._pybullet_client.loadURDF(\"/home/hayley/Desktop/gym/pybullet_data/laikago/laikago_toes.urdf\",\n",
    "                                                     startPos,\n",
    "                                                     startOrn,\n",
    "                                                     flags=urdfFlags,\n",
    "                                                     useFixedBase=False)\n",
    "    \n",
    "    \n",
    "        _sim_model = self._sim_model\n",
    "        #print(_sim_model)\n",
    "    \n",
    "        \n",
    "        # ------------  2,5,8 and 11 are the lower legs  -----------------------------------\n",
    "        \n",
    "        '''\n",
    "        lower_legs = [2, 5, 8, 11]\n",
    "        for l0 in lower_legs:\n",
    "            for l1 in lower_legs:\n",
    "                if (l1 > l0):\n",
    "                    enableCollision = 1\n",
    "                    print(\"collision for pair\", l0, l1,\n",
    "                    p.getJointInfo(_sim_model, l0)[12],\n",
    "                    p.getJointInfo(_sim_model, l1)[12], \"enabled=\", enableCollision)\n",
    "                p.setCollisionFilterPair(_sim_model, _sim_model, 2, 5, enableCollision)\n",
    "        '''\n",
    "    \n",
    "        # ------------  jointoffset  -----------------------------------\n",
    "        jointIds = []\n",
    "        paramIds = []\n",
    "        jointOffsets = []\n",
    "        jointDirections = [-1, 1, 1, 1, 1, 1, -1, 1, 1, 1, 1, 1]\n",
    "        jointAngles = [0, 0, 0, 0, 0, 0, 0, 0, 0, 0, 0, 0]\n",
    "\n",
    "        for i in range(4):\n",
    "            jointOffsets.append(0)\n",
    "            jointOffsets.append(-0.7)\n",
    "            jointOffsets.append(0.7)\n",
    "\n",
    "        maxForceId = p.addUserDebugParameter(\"maxForce\", 0, 100, 20)\n",
    "        \n",
    "        for j in range(p.getNumJoints(_sim_model)):\n",
    "            \n",
    "            # you can change the properties such as mass, friction and restitution coefficient\n",
    "            p.changeDynamics(_sim_model, j, linearDamping=0, angularDamping=0)\n",
    "            \n",
    "            info = p.getJointInfo(_sim_model, j)\n",
    "            #print(info)\n",
    "            jointName = info[1]\n",
    "            jointType = info[2]\n",
    "            \n",
    "            if (jointType == p.JOINT_PRISMATIC or jointType == p.JOINT_REVOLUTE):\n",
    "                jointIds.append(j)\n",
    "                \n",
    "                \n",
    "                \n",
    "        index = 0\n",
    "        for j in range(p.getNumJoints(_sim_model)):\n",
    "            p.changeDynamics(_sim_model, j, linearDamping=0, angularDamping=0)\n",
    "            info = p.getJointInfo(_sim_model, j)\n",
    "            js = p.getJointState(_sim_model, j)\n",
    "            #print(info)\n",
    "            jointName = info[1]\n",
    "            jointType = info[2]\n",
    "            \n",
    "            \n",
    "            # 여기서 지금 index out of range\n",
    "            if (jointType == p.JOINT_PRISMATIC or jointType == p.JOINT_REVOLUTE):\n",
    "                paramIds.append(p.addUserDebugParameter(jointName.decode(\"utf-8\"), -4, 4,\n",
    "                                        (js[0] - jointOffsets[index]) / jointDirections[index]))\n",
    "            index = index+1       \n",
    "     \n",
    "    \n",
    "        \n",
    "        \n",
    "        \n",
    "       \n",
    "            \n",
    "    def reset(self):\n",
    "   \n",
    "   \n",
    "        return\n",
    "\n",
    "    def step(self, action):\n",
    "        if action == self.LEFT:\n",
    "            self.agent_pos -= 1\n",
    "        elif action == self.RIGHT:\n",
    "            self.agent_pos += 1\n",
    "        else:\n",
    "            raise ValueError(\"Received invalid action={} which is not part of the action space\".format(action))\n",
    "\n",
    "        # Account for the boundaries of the grid\n",
    "        self.agent_pos = np.clip(self.agent_pos, 0, self.grid_size)\n",
    "\n",
    "        # Are we at the left of the grid?\n",
    "        done = self.agent_pos == 0\n",
    "\n",
    "        # Null reward everywhere except when reaching the goal (left of the grid)\n",
    "        reward = 1 if self.agent_pos == 0 else 0\n",
    "\n",
    "        # Optionally we can pass additional info, we are not using that for now\n",
    "        info = {}\n",
    "\n",
    "        return np.array(self.agent_pos).astype(np.float32), reward, done, info\n",
    "\n",
    "    def render(self, mode='console'):\n",
    "        print(\"\")\n",
    "        \n",
    "    def close(self):\n",
    "        pass"
   ]
  },
  {
   "cell_type": "code",
   "execution_count": null,
   "metadata": {},
   "outputs": [],
   "source": [
    "class Camera:\n",
    "\n",
    "    def __init__(self):\n",
    "        pass\n",
    "\n",
    "    def move_and_look_at(self, i, j, k, x, y, z):\n",
    "        lookat = [x, y, z]\n",
    "        distance = 10\n",
    "        yaw = 10\n",
    "        self._p.resetDebugVisualizerCamera(distance, yaw, -20, lookat)\n",
    "        "
   ]
  },
  {
   "cell_type": "code",
   "execution_count": 8,
   "metadata": {},
   "outputs": [
    {
     "name": "stdout",
     "output_type": "stream",
     "text": [
      "LOADING quadruped!\n"
     ]
    },
    {
     "ename": "UnboundLocalError",
     "evalue": "local variable 'enableCollision' referenced before assignment",
     "output_type": "error",
     "traceback": [
      "\u001b[0;31m---------------------------------------------------------------------------\u001b[0m",
      "\u001b[0;31mUnboundLocalError\u001b[0m                         Traceback (most recent call last)",
      "\u001b[0;32m<ipython-input-8-644455609c68>\u001b[0m in \u001b[0;36m<module>\u001b[0;34m\u001b[0m\n\u001b[0;32m----> 1\u001b[0;31m \u001b[0menv\u001b[0m \u001b[0;34m=\u001b[0m \u001b[0mQuadrupedStablePD\u001b[0m\u001b[0;34m(\u001b[0m\u001b[0mp\u001b[0m\u001b[0;34m,\u001b[0m \u001b[0mtimeStep\u001b[0m\u001b[0;34m)\u001b[0m\u001b[0;34m\u001b[0m\u001b[0m\n\u001b[0m",
      "\u001b[0;32m<ipython-input-7-dd6e7c4666f6>\u001b[0m in \u001b[0;36m__init__\u001b[0;34m(self, pybullet_client, timeStep, useFixedBase)\u001b[0m\n\u001b[1;32m     38\u001b[0m                     \u001b[0mp\u001b[0m\u001b[0;34m.\u001b[0m\u001b[0mgetJointInfo\u001b[0m\u001b[0;34m(\u001b[0m\u001b[0m_sim_model\u001b[0m\u001b[0;34m,\u001b[0m \u001b[0ml0\u001b[0m\u001b[0;34m)\u001b[0m\u001b[0;34m[\u001b[0m\u001b[0;36m12\u001b[0m\u001b[0;34m]\u001b[0m\u001b[0;34m,\u001b[0m\u001b[0;34m\u001b[0m\u001b[0m\n\u001b[1;32m     39\u001b[0m                     p.getJointInfo(_sim_model, l1)[12], \"enabled=\", enableCollision)\n\u001b[0;32m---> 40\u001b[0;31m                 \u001b[0mp\u001b[0m\u001b[0;34m.\u001b[0m\u001b[0msetCollisionFilterPair\u001b[0m\u001b[0;34m(\u001b[0m\u001b[0m_sim_model\u001b[0m\u001b[0;34m,\u001b[0m \u001b[0m_sim_model\u001b[0m\u001b[0;34m,\u001b[0m \u001b[0;36m2\u001b[0m\u001b[0;34m,\u001b[0m \u001b[0;36m5\u001b[0m\u001b[0;34m,\u001b[0m \u001b[0menableCollision\u001b[0m\u001b[0;34m)\u001b[0m\u001b[0;34m\u001b[0m\u001b[0m\n\u001b[0m\u001b[1;32m     41\u001b[0m \u001b[0;34m\u001b[0m\u001b[0m\n\u001b[1;32m     42\u001b[0m         \u001b[0;31m# ------------  jointoffset  -----------------------------------\u001b[0m\u001b[0;34m\u001b[0m\u001b[0;34m\u001b[0m\u001b[0m\n",
      "\u001b[0;31mUnboundLocalError\u001b[0m: local variable 'enableCollision' referenced before assignment"
     ]
    }
   ],
   "source": [
    "env = QuadrupedStablePD(p, timeStep)"
   ]
  },
  {
   "cell_type": "code",
   "execution_count": 8,
   "metadata": {},
   "outputs": [
    {
     "name": "stdout",
     "output_type": "stream",
     "text": [
      "\n"
     ]
    },
    {
     "ename": "AttributeError",
     "evalue": "'QuadrupedStablePD' object has no attribute 'observation_space'",
     "output_type": "error",
     "traceback": [
      "\u001b[0;31m---------------------------------------------------------------------------\u001b[0m",
      "\u001b[0;31mAttributeError\u001b[0m                            Traceback (most recent call last)",
      "\u001b[0;32m<ipython-input-8-73f868b3c858>\u001b[0m in \u001b[0;36m<module>\u001b[0;34m\u001b[0m\n\u001b[1;32m      2\u001b[0m \u001b[0menv\u001b[0m\u001b[0;34m.\u001b[0m\u001b[0mrender\u001b[0m\u001b[0;34m(\u001b[0m\u001b[0;34m)\u001b[0m\u001b[0;34m\u001b[0m\u001b[0m\n\u001b[1;32m      3\u001b[0m \u001b[0;34m\u001b[0m\u001b[0m\n\u001b[0;32m----> 4\u001b[0;31m \u001b[0mprint\u001b[0m\u001b[0;34m(\u001b[0m\u001b[0menv\u001b[0m\u001b[0;34m.\u001b[0m\u001b[0mobservation_space\u001b[0m\u001b[0;34m)\u001b[0m\u001b[0;34m\u001b[0m\u001b[0m\n\u001b[0m\u001b[1;32m      5\u001b[0m \u001b[0mprint\u001b[0m\u001b[0;34m(\u001b[0m\u001b[0menv\u001b[0m\u001b[0;34m.\u001b[0m\u001b[0maction_space\u001b[0m\u001b[0;34m)\u001b[0m\u001b[0;34m\u001b[0m\u001b[0m\n\u001b[1;32m      6\u001b[0m \u001b[0mprint\u001b[0m\u001b[0;34m(\u001b[0m\u001b[0menv\u001b[0m\u001b[0;34m.\u001b[0m\u001b[0maction_space\u001b[0m\u001b[0;34m.\u001b[0m\u001b[0msample\u001b[0m\u001b[0;34m(\u001b[0m\u001b[0;34m)\u001b[0m\u001b[0;34m)\u001b[0m\u001b[0;34m\u001b[0m\u001b[0m\n",
      "\u001b[0;31mAttributeError\u001b[0m: 'QuadrupedStablePD' object has no attribute 'observation_space'"
     ]
    }
   ],
   "source": [
    "obs = env.reset()\n",
    "env.render()\n",
    "\n",
    "print(env.observation_space)\n",
    "print(env.action_space)\n",
    "print(env.action_space.sample())"
   ]
  },
  {
   "cell_type": "code",
   "execution_count": null,
   "metadata": {},
   "outputs": [],
   "source": []
  },
  {
   "cell_type": "code",
   "execution_count": null,
   "metadata": {},
   "outputs": [],
   "source": []
  },
  {
   "cell_type": "code",
   "execution_count": null,
   "metadata": {},
   "outputs": [],
   "source": []
  },
  {
   "cell_type": "code",
   "execution_count": null,
   "metadata": {},
   "outputs": [],
   "source": []
  },
  {
   "cell_type": "code",
   "execution_count": null,
   "metadata": {},
   "outputs": [],
   "source": []
  },
  {
   "cell_type": "code",
   "execution_count": null,
   "metadata": {},
   "outputs": [],
   "source": []
  },
  {
   "cell_type": "code",
   "execution_count": null,
   "metadata": {},
   "outputs": [],
   "source": []
  }
 ],
 "metadata": {
  "kernelspec": {
   "display_name": "Python 3",
   "language": "python",
   "name": "python3"
  },
  "language_info": {
   "codemirror_mode": {
    "name": "ipython",
    "version": 3
   },
   "file_extension": ".py",
   "mimetype": "text/x-python",
   "name": "python",
   "nbconvert_exporter": "python",
   "pygments_lexer": "ipython3",
   "version": "3.5.6"
  }
 },
 "nbformat": 4,
 "nbformat_minor": 2
}
