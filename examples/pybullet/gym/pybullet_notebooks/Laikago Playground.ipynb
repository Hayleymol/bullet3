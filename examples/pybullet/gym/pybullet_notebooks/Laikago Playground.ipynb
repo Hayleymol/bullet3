{
 "cells": [
  {
   "cell_type": "markdown",
   "metadata": {},
   "source": [
    "# 하나씩 분리해보는거"
   ]
  },
  {
   "cell_type": "markdown",
   "metadata": {},
   "source": [
    "### 모델 로딩"
   ]
  },
  {
   "cell_type": "code",
   "execution_count": 1,
   "metadata": {},
   "outputs": [],
   "source": [
    "import pybullet as p\n",
    "import pybullet_data as pd\n",
    "# 만약 env 안에 들어있는 애를 가져오고 싶으면 import env 해야함\n",
    "\n",
    "import time\n",
    "\n",
    "p.connect(p.GUI)\n",
    "p.setAdditionalSearchPath(pd.getDataPath())\n",
    "\n",
    "# localizing 시작\n",
    "plane = p.loadURDF(\"plane.urdf\")\n",
    "p.setGravity(0, 0, -9.8)\n",
    "p.setTimeStep(1. / 500)\n",
    "\n",
    "#p.setDefaultContactERP(0)\n",
    "#urdfFlags = p.URDF_USE_SELF_COLLISION+p.URDF_USE_SELF_COLLISION_EXCLUDE_ALL_PARENTS\n",
    "urdfFlags = p.URDF_USE_SELF_COLLISION\n",
    "\n",
    "# 만약 환경 바꾸고 싶으면 인식할꺼임\n",
    "quadruped = p.loadURDF(\"laikago/laikago.urdf\", [0, 0, .5], [0, 0.5, 0.5, 0],\n",
    "                       flags=urdfFlags,\n",
    "                       useFixedBase=False)\n"
   ]
  },
  {
   "cell_type": "code",
   "execution_count": 2,
   "metadata": {},
   "outputs": [
    {
     "name": "stdout",
     "output_type": "stream",
     "text": [
      "(0, b'FR_hip_motor_2_chassis_joint', 0, 7, 6, 1, 0.0, 0.0, 0.0, -1.0, 100.0, 100.0, b'FR_hip_motor', (0.0, 0.0, -1.0), (-0.0817145, -0.03, 0.199095), (0.0, 0.0, 0.0, 1.0), -1)\n",
      "(1, b'FR_upper_leg_2_hip_motor_joint', 0, 8, 7, 1, 0.0, 0.0, 0.0, -1.0, 100.0, 100.0, b'FR_upper_leg', (1.0, 0.0, 0.0), (-0.073565, 0.0, 0.0), (0.0, 0.0, 0.0, 1.0), 0)\n",
      "(2, b'FR_lower_leg_2_upper_leg_joint', 0, 9, 8, 1, 0.0, 0.0, 0.0, -1.0, 100.0, 100.0, b'FR_lower_leg', (1.0, 0.0, 0.0), (0.02069, -0.16832999999999998, -0.10219999999999999), (0.0, 0.0, 0.0, 1.0), 1)\n",
      "(3, b'FL_hip_motor_2_chassis_joint', 0, 10, 9, 1, 0.0, 0.0, 0.0, -1.0, 100.0, 100.0, b'FL_hip_motor', (0.0, 0.0, 1.0), (0.0817145, -0.03, 0.199095), (0.0, 0.0, 0.0, 1.0), -1)\n",
      "(4, b'FL_upper_leg_2_hip_motor_joint', 0, 11, 10, 1, 0.0, 0.0, 0.0, -1.0, 100.0, 100.0, b'FL_upper_leg', (1.0, 0.0, 0.0), (0.075855, 0.0, 0.0), (0.0, 0.0, 0.0, 1.0), 3)\n",
      "(5, b'FL_lower_leg_2_upper_leg_joint', 0, 12, 11, 1, 0.0, 0.0, 0.0, -1.0, 100.0, 100.0, b'FL_lower_leg', (1.0, 0.0, 0.0), (-0.02069, -0.16832999999999998, -0.10219999999999999), (0.0, 0.0, 0.0, 1.0), 4)\n",
      "(6, b'RR_hip_motor_2_chassis_joint', 0, 13, 12, 1, 0.0, 0.0, 0.0, -1.0, 100.0, 100.0, b'RR_hip_motor', (0.0, 0.0, -1.0), (-0.0817145, -0.03, -0.238195), (0.0, 0.0, 0.0, 1.0), -1)\n",
      "(7, b'RR_upper_leg_2_hip_motor_joint', 0, 14, 13, 1, 0.0, 0.0, 0.0, -1.0, 100.0, 100.0, b'RR_upper_leg', (1.0, 0.0, 0.0), (-0.073565, 0.0, 0.0), (0.0, 0.0, 0.0, 1.0), 6)\n",
      "(8, b'RR_lower_leg_2_upper_leg_joint', 0, 15, 14, 1, 0.0, 0.0, 0.0, -1.0, 100.0, 100.0, b'RR_lower_leg', (1.0, 0.0, 0.0), (0.02069, -0.16832999999999998, -0.10219999999999999), (0.0, 0.0, 0.0, 1.0), 7)\n",
      "(9, b'RL_hip_motor_2_chassis_joint', 0, 16, 15, 1, 0.0, 0.0, 0.0, -1.0, 100.0, 100.0, b'RL_hip_motor', (0.0, 0.0, 1.0), (0.0817145, -0.03, -0.238195), (0.0, 0.0, 0.0, 1.0), -1)\n",
      "(10, b'RL_upper_leg_2_hip_motor_joint', 0, 17, 16, 1, 0.0, 0.0, 0.0, -1.0, 100.0, 100.0, b'RL_upper_leg', (1.0, 0.0, 0.0), (0.075855, 0.0, 0.0), (0.0, 0.0, 0.0, 1.0), 9)\n",
      "(11, b'RL_lower_leg_2_upper_leg_joint', 0, 18, 17, 1, 0.0, 0.0, 0.0, -1.0, 100.0, 100.0, b'RL_lower_leg', (1.0, 0.0, 0.0), (-0.02069, -0.16832999999999998, -0.10219999999999999), (0.0, 0.0, 0.0, 1.0), 10)\n"
     ]
    }
   ],
   "source": [
    "#### joint 정보 가지고 오는것\n",
    "\n",
    "for j in range(p.getNumJoints(quadruped)):\n",
    "    print(p.getJointInfo(quadruped, j))\n"
   ]
  },
  {
   "cell_type": "code",
   "execution_count": 4,
   "metadata": {
    "scrolled": true
   },
   "outputs": [
    {
     "name": "stdout",
     "output_type": "stream",
     "text": [
      "collision for pair 2 5 b'FR_lower_leg' b'FL_lower_leg' enabled= 1\n",
      "collision for pair 2 8 b'FR_lower_leg' b'RR_lower_leg' enabled= 1\n",
      "collision for pair 2 11 b'FR_lower_leg' b'RL_lower_leg' enabled= 1\n",
      "collision for pair 5 8 b'FL_lower_leg' b'RR_lower_leg' enabled= 1\n",
      "collision for pair 5 11 b'FL_lower_leg' b'RL_lower_leg' enabled= 1\n",
      "collision for pair 8 11 b'RR_lower_leg' b'RL_lower_leg' enabled= 1\n"
     ]
    }
   ],
   "source": [
    "#enable collision between lower legs\n",
    "#2,5,8 and 11 are the lower legs\n",
    "lower_legs = [2, 5, 8, 11]\n",
    "for l0 in lower_legs:\n",
    "    for l1 in lower_legs:\n",
    "        if (l1 > l0):\n",
    "            enableCollision = 1\n",
    "            print(\"collision for pair\", l0, l1,\n",
    "                p.getJointInfo(quadruped, l0)[12],\n",
    "                p.getJointInfo(quadruped, l1)[12], \"enabled=\", enableCollision)\n",
    "            p.setCollisionFilterPair(quadruped, quadruped, 2, 5, enableCollision)\n",
    "\n",
    "jointIds = []\n",
    "paramIds = []\n",
    "jointOffsets = []\n",
    "jointDirections = [-1, 1, 1, 1, 1, 1, -1, 1, 1, 1, 1, 1]\n",
    "jointAngles = [0, 0, 0, 0, 0, 0, 0, 0, 0, 0, 0, 0]\n"
   ]
  },
  {
   "cell_type": "code",
   "execution_count": 5,
   "metadata": {},
   "outputs": [],
   "source": [
    "for i in range(4):\n",
    "    jointOffsets.append(0)\n",
    "    jointOffsets.append(-0.7)\n",
    "    jointOffsets.append(0.7)\n",
    "\n",
    "maxForceId = p.addUserDebugParameter(\"maxForce\", 0, 100, 20)\n",
    "\n",
    "for j in range(p.getNumJoints(quadruped)):\n",
    "    p.changeDynamics(quadruped, j, linearDamping=0, angularDamping=0)\n",
    "    info = p.getJointInfo(quadruped, j)\n",
    "    #print(info)\n",
    "    jointName = info[1]\n",
    "    jointType = info[2]\n",
    "    if (jointType == p.JOINT_PRISMATIC or jointType == p.JOINT_REVOLUTE):\n",
    "        jointIds.append(j)\n",
    "\n",
    "p.getCameraImage(480, 320)\n",
    "p.setRealTimeSimulation(0)"
   ]
  },
  {
   "cell_type": "code",
   "execution_count": 6,
   "metadata": {},
   "outputs": [],
   "source": [
    "# 각각 joint가 실시간으로 움직이도록 값 주는부분\n",
    "\n",
    "index = 0\n",
    "for j in range(p.getNumJoints(quadruped)):\n",
    "    p.changeDynamics(quadruped, j, linearDamping=0, angularDamping=0)\n",
    "    info = p.getJointInfo(quadruped, j)\n",
    "    js = p.getJointState(quadruped, j)\n",
    "    #print(info)\n",
    "    jointName = info[1]\n",
    "    jointType = info[2]\n",
    "    \n",
    "    #print(jointDirections[index])\n",
    "    if (jointType == p.JOINT_PRISMATIC or jointType == p.JOINT_REVOLUTE):\n",
    "        paramIds.append(p.addUserDebugParameter(jointName.decode(\"utf-8\"), -4, 4,\n",
    "                                (js[0] - jointOffsets[index]) / jointDirections[index]))\n",
    "    index = index+1\n",
    "                       \n"
   ]
  },
  {
   "cell_type": "code",
   "execution_count": null,
   "metadata": {},
   "outputs": [],
   "source": [
    "# simulation start\n",
    "\n",
    "p.setRealTimeSimulation(1)\n",
    "\n",
    "while (1):\n",
    "\n",
    "    for i in range(len(paramIds)):\n",
    "        c = paramIds[i]\n",
    "        targetPos = p.readUserDebugParameter(c)\n",
    "        maxForce = p.readUserDebugParameter(maxForceId)\n",
    "        p.setJointMotorControl2(quadruped,\n",
    "                            jointIds[i],\n",
    "                            p.POSITION_CONTROL,\n",
    "                            jointDirections[i] * targetPos + jointOffsets[i],\n",
    "                            force=maxForce)"
   ]
  },
  {
   "cell_type": "code",
   "execution_count": null,
   "metadata": {},
   "outputs": [],
   "source": []
  },
  {
   "cell_type": "code",
   "execution_count": null,
   "metadata": {},
   "outputs": [],
   "source": []
  },
  {
   "cell_type": "code",
   "execution_count": null,
   "metadata": {},
   "outputs": [],
   "source": []
  },
  {
   "cell_type": "markdown",
   "metadata": {},
   "source": [
    "### 환경화 시키기"
   ]
  },
  {
   "cell_type": "code",
   "execution_count": 7,
   "metadata": {},
   "outputs": [],
   "source": [
    "pybullet_client = p\n",
    "p.connect(p.GUI)\n",
    "p.setAdditionalSearchPath(pd.getDataPath())\n",
    "\n",
    "plane = p.loadURDF(\"plane.urdf\")\n",
    "p.setGravity(0, 0, -9.8)\n",
    "p.setTimeStep(1. / 500)\n",
    "urdfFlags = p.URDF_USE_SELF_COLLISION\n",
    "\n",
    "p.getCameraImage(480, 320)\n",
    "p.setRealTimeSimulation(0)\n",
    "\n",
    "timeStep = 1. / 500"
   ]
  },
  {
   "cell_type": "raw",
   "metadata": {},
   "source": [
    "#### 이렇게 등록하는거는 선택적임\n",
    "\n",
    "from gym.envs.registration import registry, make, spec\n",
    "\n",
    "\n",
    "def register(id, *args, **kvargs):\n",
    "    if id in registry.env_specs:\n",
    "        return\n",
    "    else:\n",
    "        return gym.envs.registration.register(id, *args, **kvargs)\n",
    "\n",
    "\n",
    "register(id='LaikagoBulletEnv-v0',\n",
    "         entry_point='gym_locomotion_envs:LaikagoBulletEnv',\n",
    "         max_episode_steps=1000,\n",
    "         reward_threshold=2500.0)    \n"
   ]
  },
  {
   "cell_type": "code",
   "execution_count": 1,
   "metadata": {
    "scrolled": true
   },
   "outputs": [
    {
     "name": "stderr",
     "output_type": "stream",
     "text": [
      "/home/hayley/anaconda3/envs/benelot/lib/python3.5/site-packages/tensorflow/python/framework/dtypes.py:516: FutureWarning: Passing (type, 1) or '1type' as a synonym of type is deprecated; in a future version of numpy, it will be understood as (type, (1,)) / '(1,)type'.\n",
      "  _np_qint8 = np.dtype([(\"qint8\", np.int8, 1)])\n",
      "/home/hayley/anaconda3/envs/benelot/lib/python3.5/site-packages/tensorflow/python/framework/dtypes.py:517: FutureWarning: Passing (type, 1) or '1type' as a synonym of type is deprecated; in a future version of numpy, it will be understood as (type, (1,)) / '(1,)type'.\n",
      "  _np_quint8 = np.dtype([(\"quint8\", np.uint8, 1)])\n",
      "/home/hayley/anaconda3/envs/benelot/lib/python3.5/site-packages/tensorflow/python/framework/dtypes.py:518: FutureWarning: Passing (type, 1) or '1type' as a synonym of type is deprecated; in a future version of numpy, it will be understood as (type, (1,)) / '(1,)type'.\n",
      "  _np_qint16 = np.dtype([(\"qint16\", np.int16, 1)])\n",
      "/home/hayley/anaconda3/envs/benelot/lib/python3.5/site-packages/tensorflow/python/framework/dtypes.py:519: FutureWarning: Passing (type, 1) or '1type' as a synonym of type is deprecated; in a future version of numpy, it will be understood as (type, (1,)) / '(1,)type'.\n",
      "  _np_quint16 = np.dtype([(\"quint16\", np.uint16, 1)])\n",
      "/home/hayley/anaconda3/envs/benelot/lib/python3.5/site-packages/tensorflow/python/framework/dtypes.py:520: FutureWarning: Passing (type, 1) or '1type' as a synonym of type is deprecated; in a future version of numpy, it will be understood as (type, (1,)) / '(1,)type'.\n",
      "  _np_qint32 = np.dtype([(\"qint32\", np.int32, 1)])\n",
      "/home/hayley/anaconda3/envs/benelot/lib/python3.5/site-packages/tensorflow/python/framework/dtypes.py:525: FutureWarning: Passing (type, 1) or '1type' as a synonym of type is deprecated; in a future version of numpy, it will be understood as (type, (1,)) / '(1,)type'.\n",
      "  np_resource = np.dtype([(\"resource\", np.ubyte, 1)])\n",
      "/home/hayley/anaconda3/envs/benelot/lib/python3.5/site-packages/tensorboard/compat/tensorflow_stub/dtypes.py:541: FutureWarning: Passing (type, 1) or '1type' as a synonym of type is deprecated; in a future version of numpy, it will be understood as (type, (1,)) / '(1,)type'.\n",
      "  _np_qint8 = np.dtype([(\"qint8\", np.int8, 1)])\n",
      "/home/hayley/anaconda3/envs/benelot/lib/python3.5/site-packages/tensorboard/compat/tensorflow_stub/dtypes.py:542: FutureWarning: Passing (type, 1) or '1type' as a synonym of type is deprecated; in a future version of numpy, it will be understood as (type, (1,)) / '(1,)type'.\n",
      "  _np_quint8 = np.dtype([(\"quint8\", np.uint8, 1)])\n",
      "/home/hayley/anaconda3/envs/benelot/lib/python3.5/site-packages/tensorboard/compat/tensorflow_stub/dtypes.py:543: FutureWarning: Passing (type, 1) or '1type' as a synonym of type is deprecated; in a future version of numpy, it will be understood as (type, (1,)) / '(1,)type'.\n",
      "  _np_qint16 = np.dtype([(\"qint16\", np.int16, 1)])\n",
      "/home/hayley/anaconda3/envs/benelot/lib/python3.5/site-packages/tensorboard/compat/tensorflow_stub/dtypes.py:544: FutureWarning: Passing (type, 1) or '1type' as a synonym of type is deprecated; in a future version of numpy, it will be understood as (type, (1,)) / '(1,)type'.\n",
      "  _np_quint16 = np.dtype([(\"quint16\", np.uint16, 1)])\n",
      "/home/hayley/anaconda3/envs/benelot/lib/python3.5/site-packages/tensorboard/compat/tensorflow_stub/dtypes.py:545: FutureWarning: Passing (type, 1) or '1type' as a synonym of type is deprecated; in a future version of numpy, it will be understood as (type, (1,)) / '(1,)type'.\n",
      "  _np_qint32 = np.dtype([(\"qint32\", np.int32, 1)])\n",
      "/home/hayley/anaconda3/envs/benelot/lib/python3.5/site-packages/tensorboard/compat/tensorflow_stub/dtypes.py:550: FutureWarning: Passing (type, 1) or '1type' as a synonym of type is deprecated; in a future version of numpy, it will be understood as (type, (1,)) / '(1,)type'.\n",
      "  np_resource = np.dtype([(\"resource\", np.ubyte, 1)])\n"
     ]
    }
   ],
   "source": [
    "import gym\n",
    "import pybullet as p\n",
    "import pybullet_data as pd\n",
    "\n",
    "import time\n",
    "\n",
    "\n",
    "from stable_baselines import PPO2\n",
    "from stable_baselines.common.evaluation import evaluate_policy"
   ]
  },
  {
   "cell_type": "code",
   "execution_count": 1,
   "metadata": {
    "scrolled": true
   },
   "outputs": [
    {
     "name": "stderr",
     "output_type": "stream",
     "text": [
      "/home/hayley/anaconda3/envs/benelot/lib/python3.5/site-packages/tensorflow/python/framework/dtypes.py:516: FutureWarning: Passing (type, 1) or '1type' as a synonym of type is deprecated; in a future version of numpy, it will be understood as (type, (1,)) / '(1,)type'.\n",
      "  _np_qint8 = np.dtype([(\"qint8\", np.int8, 1)])\n",
      "/home/hayley/anaconda3/envs/benelot/lib/python3.5/site-packages/tensorflow/python/framework/dtypes.py:517: FutureWarning: Passing (type, 1) or '1type' as a synonym of type is deprecated; in a future version of numpy, it will be understood as (type, (1,)) / '(1,)type'.\n",
      "  _np_quint8 = np.dtype([(\"quint8\", np.uint8, 1)])\n",
      "/home/hayley/anaconda3/envs/benelot/lib/python3.5/site-packages/tensorflow/python/framework/dtypes.py:518: FutureWarning: Passing (type, 1) or '1type' as a synonym of type is deprecated; in a future version of numpy, it will be understood as (type, (1,)) / '(1,)type'.\n",
      "  _np_qint16 = np.dtype([(\"qint16\", np.int16, 1)])\n",
      "/home/hayley/anaconda3/envs/benelot/lib/python3.5/site-packages/tensorflow/python/framework/dtypes.py:519: FutureWarning: Passing (type, 1) or '1type' as a synonym of type is deprecated; in a future version of numpy, it will be understood as (type, (1,)) / '(1,)type'.\n",
      "  _np_quint16 = np.dtype([(\"quint16\", np.uint16, 1)])\n",
      "/home/hayley/anaconda3/envs/benelot/lib/python3.5/site-packages/tensorflow/python/framework/dtypes.py:520: FutureWarning: Passing (type, 1) or '1type' as a synonym of type is deprecated; in a future version of numpy, it will be understood as (type, (1,)) / '(1,)type'.\n",
      "  _np_qint32 = np.dtype([(\"qint32\", np.int32, 1)])\n",
      "/home/hayley/anaconda3/envs/benelot/lib/python3.5/site-packages/tensorflow/python/framework/dtypes.py:525: FutureWarning: Passing (type, 1) or '1type' as a synonym of type is deprecated; in a future version of numpy, it will be understood as (type, (1,)) / '(1,)type'.\n",
      "  np_resource = np.dtype([(\"resource\", np.ubyte, 1)])\n",
      "/home/hayley/anaconda3/envs/benelot/lib/python3.5/site-packages/tensorboard/compat/tensorflow_stub/dtypes.py:541: FutureWarning: Passing (type, 1) or '1type' as a synonym of type is deprecated; in a future version of numpy, it will be understood as (type, (1,)) / '(1,)type'.\n",
      "  _np_qint8 = np.dtype([(\"qint8\", np.int8, 1)])\n",
      "/home/hayley/anaconda3/envs/benelot/lib/python3.5/site-packages/tensorboard/compat/tensorflow_stub/dtypes.py:542: FutureWarning: Passing (type, 1) or '1type' as a synonym of type is deprecated; in a future version of numpy, it will be understood as (type, (1,)) / '(1,)type'.\n",
      "  _np_quint8 = np.dtype([(\"quint8\", np.uint8, 1)])\n",
      "/home/hayley/anaconda3/envs/benelot/lib/python3.5/site-packages/tensorboard/compat/tensorflow_stub/dtypes.py:543: FutureWarning: Passing (type, 1) or '1type' as a synonym of type is deprecated; in a future version of numpy, it will be understood as (type, (1,)) / '(1,)type'.\n",
      "  _np_qint16 = np.dtype([(\"qint16\", np.int16, 1)])\n",
      "/home/hayley/anaconda3/envs/benelot/lib/python3.5/site-packages/tensorboard/compat/tensorflow_stub/dtypes.py:544: FutureWarning: Passing (type, 1) or '1type' as a synonym of type is deprecated; in a future version of numpy, it will be understood as (type, (1,)) / '(1,)type'.\n",
      "  _np_quint16 = np.dtype([(\"quint16\", np.uint16, 1)])\n",
      "/home/hayley/anaconda3/envs/benelot/lib/python3.5/site-packages/tensorboard/compat/tensorflow_stub/dtypes.py:545: FutureWarning: Passing (type, 1) or '1type' as a synonym of type is deprecated; in a future version of numpy, it will be understood as (type, (1,)) / '(1,)type'.\n",
      "  _np_qint32 = np.dtype([(\"qint32\", np.int32, 1)])\n",
      "/home/hayley/anaconda3/envs/benelot/lib/python3.5/site-packages/tensorboard/compat/tensorflow_stub/dtypes.py:550: FutureWarning: Passing (type, 1) or '1type' as a synonym of type is deprecated; in a future version of numpy, it will be understood as (type, (1,)) / '(1,)type'.\n",
      "  np_resource = np.dtype([(\"resource\", np.ubyte, 1)])\n"
     ]
    }
   ],
   "source": [
    "import gym\n",
    "import pybullet as p\n",
    "import pybullet_data as pd\n",
    "\n",
    "import time\n",
    "\n",
    "from stable_baselines import PPO2\n",
    "from stable_baselines.common.evaluation import evaluate_policy\n",
    "\n",
    "\n",
    "from scene_stadium import SinglePlayerStadiumScene\n",
    "from env_bases import MJCFBaseBulletEnv\n",
    "import numpy as np\n",
    "import pybullet\n",
    "from robot_locomotors import Ant, Laikago\n",
    "\n",
    "\n",
    "class WalkerBaseBulletEnv(MJCFBaseBulletEnv):\n",
    "\n",
    "    def __init__(self, robot, render=False):\n",
    "        # print(\"WalkerBase::__init__ start\")\n",
    "        self.camera_x = 0\n",
    "        self.walk_target_x = 1e3  # kilometer away\n",
    "        self.walk_target_y = 0\n",
    "        self.stateId = -1\n",
    "        MJCFBaseBulletEnv.__init__(self, robot, render)\n",
    "\n",
    "\n",
    "    def create_single_player_scene(self, bullet_client):\n",
    "        self.stadium_scene = SinglePlayerStadiumScene(bullet_client,\n",
    "                                                  gravity=9.8,\n",
    "                                                  timestep=0.0165 / 4,\n",
    "                                                  frame_skip=4)\n",
    "        return self.stadium_scene\n",
    "\n",
    "    def reset(self):\n",
    "        if (self.stateId >= 0):\n",
    "            print(\"restoreState self.stateId:\",self.stateId)\n",
    "            self._p.restoreState(self.stateId)\n",
    "\n",
    "        r = MJCFBaseBulletEnv.reset(self)\n",
    "        self._p.configureDebugVisualizer(pybullet.COV_ENABLE_RENDERING, 0)\n",
    "\n",
    "        # 여기가 ground plane \n",
    "        self.parts, self.jdict, self.ordered_joints, self.robot_body = self.robot.addToScene(\n",
    "            self._p, self.stadium_scene.ground_plane_mjcf)\n",
    "        \n",
    "        \n",
    "        # 여기가 joint 이름들\n",
    "        self.ground_ids = set([(self.parts[f].bodies[self.parts[f].bodyIndex],\n",
    "                            self.parts[f].bodyPartIndex) for f in self.foot_ground_object_names])\n",
    "        \n",
    "        \n",
    "        \n",
    "        \n",
    "        self._p.configureDebugVisualizer(pybullet.COV_ENABLE_RENDERING, 1)\n",
    "        #print(\"이거는 나오나\")\n",
    "        \n",
    "        if (self.stateId < 0):\n",
    "            self.stateId = self._p.saveState()\n",
    "            print(\"saving state self.stateId:\",self.stateId)\n",
    "\n",
    "        return r\n",
    "\n",
    "    def _isDone(self):\n",
    "        return self._alive < 0\n",
    "\n",
    "    def move_robot(self, init_x, init_y, init_z):\n",
    "        \n",
    "        \"Used by multiplayer stadium to move sideways, to another running lane.\"\n",
    "        self.cpp_robot.query_position()\n",
    "        pose = self.cpp_robot.root_part.pose()\n",
    "        \n",
    "        pose.move_xyz(init_x, init_y, init_z)  \n",
    "        # Works because robot loads around (0,0,0), and some robots have z != 0 that is left intact\n",
    "        \n",
    "        self.cpp_robot.set_pose(pose)\n",
    "\n",
    "    electricity_cost = -2.0  # cost for using motors -- this parameter should be carefully tuned against reward for making progress, other values less improtant\n",
    "    stall_torque_cost = -0.1  # cost for running electric current through a motor even at zero rotational speed, small\n",
    "    foot_collision_cost = -1.0  # touches another leg, or other objects, that cost makes robot avoid smashing feet into itself\n",
    "    foot_ground_object_names = set([\"floor\"])  # to distinguish ground and other objects\n",
    "    joints_at_limit_cost = -0.1  # discourage stuck joints\n",
    "\n",
    "    def step(self, a):\n",
    "        \n",
    "        if not self.scene.multiplayer:  # if multiplayer, action first applied to all robots, then global step() called, then _step() for all robots with the same actions\n",
    "            self.robot.apply_action(a)\n",
    "            self.scene.global_step()\n",
    "\n",
    "        state = self.robot.calc_state()  # also calculates self.joints_at_limit\n",
    "\n",
    "        self._alive = float(self.robot.alive_bonus(\n",
    "                state[0] + self.robot.initial_z,\n",
    "                self.robot.body_rpy[1]))  \n",
    "                # state[0] is body height above ground, body_rpy[1] is pitch\n",
    "            \n",
    "        done = self._isDone()\n",
    "        \n",
    "        if not np.isfinite(state).all():\n",
    "            print(\"~INF~\", state)\n",
    "            done = True\n",
    "\n",
    "        potential_old = self.potential\n",
    "        self.potential = self.robot.calc_potential()\n",
    "        progress = float(self.potential - potential_old)\n",
    "\n",
    "        feet_collision_cost = 0.0\n",
    "        \n",
    "        for i, f in enumerate(self.robot.feet):  \n",
    "            # TODO: Maybe calculating feet contacts could be done within the robot code\n",
    "            \n",
    "            contact_ids = set((x[2], x[4]) for x in f.contact_list())\n",
    "            #print(\"CONTACT OF '%d' WITH %d\" % (contact_ids, \",\".join(contact_names)) )\n",
    "            #print(contact_ids)\n",
    "            \n",
    "            if (self.ground_ids & contact_ids):\n",
    "                #see Issue 63: https://github.com/openai/roboschool/issues/63\n",
    "                #feet_collision_cost += self.foot_collision_cost\n",
    "                self.robot.feet_contact[i] = 1.0\n",
    "                \n",
    "            else:\n",
    "                self.robot.feet_contact[i] = 0.0\n",
    "\n",
    "        electricity_cost = self.electricity_cost * float(np.abs(a * self.robot.joint_speeds).mean())\n",
    "        electricity_cost += self.stall_torque_cost * float(np.square(a).mean())\n",
    "\n",
    "        joints_at_limit_cost = float(self.joints_at_limit_cost * self.robot.joints_at_limit)\n",
    "        \n",
    "        debugmode = 0\n",
    "        if (debugmode):\n",
    "            print(\"alive=\")\n",
    "            print(self._alive)\n",
    "            print(\"progress\")\n",
    "            print(progress)\n",
    "            print(\"electricity_cost\")\n",
    "            print(electricity_cost)\n",
    "            print(\"joints_at_limit_cost\")\n",
    "            print(joints_at_limit_cost)\n",
    "            print(\"feet_collision_cost\")\n",
    "            print(feet_collision_cost)\n",
    "\n",
    "        self.rewards = [\n",
    "            self._alive, progress, electricity_cost, joints_at_limit_cost, feet_collision_cost\n",
    "        ]\n",
    "        \n",
    "        if (debugmode):\n",
    "            print(\"rewards=\")\n",
    "            print(self.rewards)\n",
    "            print(\"sum rewards\")\n",
    "            print(sum(self.rewards))\n",
    "            \n",
    "        self.HUD(state, a, done)\n",
    "        self.reward += sum(self.rewards)\n",
    "\n",
    "        return state, sum(self.rewards), bool(done), {}\n",
    "\n",
    "    def camera_adjust(self):\n",
    "        x, y, z = self.body_xyz\n",
    "        self.camera_x = 0.98 * self.camera_x + (1 - 0.98) * x\n",
    "        self.camera.move_and_look_at(self.camera_x, y - 2.0, 1.4, x, y, 1.0)\n",
    "\n",
    "\n",
    "\n",
    "\n",
    "class AntBulletEnv(WalkerBaseBulletEnv):\n",
    "\n",
    "    def __init__(self, render=False):\n",
    "        self.robot = Ant()\n",
    "        WalkerBaseBulletEnv.__init__(self, self.robot, render)\n",
    "\n",
    "class LaikagoBulletEnv(WalkerBaseBulletEnv):\n",
    "\n",
    "    def __init__(self, render=False):\n",
    "        self.robot = Laikago()\n",
    "        WalkerBaseBulletEnv.__init__(self, self.robot, render)\n",
    "\n"
   ]
  },
  {
   "cell_type": "code",
   "execution_count": 2,
   "metadata": {},
   "outputs": [
    {
     "name": "stderr",
     "output_type": "stream",
     "text": [
      "/home/hayley/.mujoco/gym/gym/logger.py:30: UserWarning: \u001b[33mWARN: Box bound precision lowered by casting to float32\u001b[0m\n",
      "  warnings.warn(colorize('%s: %s'%('WARN', msg % args), 'yellow'))\n"
     ]
    }
   ],
   "source": [
    "env = AntBulletEnv() "
   ]
  },
  {
   "cell_type": "code",
   "execution_count": 3,
   "metadata": {},
   "outputs": [
    {
     "data": {
      "text/plain": [
       "array([], dtype=float64)"
      ]
     },
     "execution_count": 3,
     "metadata": {},
     "output_type": "execute_result"
    }
   ],
   "source": [
    "env.render()"
   ]
  },
  {
   "cell_type": "code",
   "execution_count": 4,
   "metadata": {
    "scrolled": true
   },
   "outputs": [
    {
     "name": "stdout",
     "output_type": "stream",
     "text": [
      "/home/hayley/.mujoco/stable-baseline/data/ant.xml\n",
      "((0.0, 0.0, 0.0), (0.0, 0.0, 0.0, 1.0))\n",
      "((0.0, 0.0, 0.75), (0.0, 0.0, 0.0, 1.0))\n",
      "saving state self.stateId: 0\n"
     ]
    }
   ],
   "source": [
    "observation = env.reset()"
   ]
  },
  {
   "cell_type": "code",
   "execution_count": null,
   "metadata": {},
   "outputs": [],
   "source": []
  },
  {
   "cell_type": "markdown",
   "metadata": {},
   "source": [
    "#### 여기서부터 training"
   ]
  },
  {
   "cell_type": "code",
   "execution_count": 5,
   "metadata": {
    "scrolled": true
   },
   "outputs": [
    {
     "name": "stdout",
     "output_type": "stream",
     "text": [
      "Wrapping the env in a DummyVecEnv.\n",
      "WARNING:tensorflow:From /home/hayley/anaconda3/envs/benelot/lib/python3.5/site-packages/stable_baselines/common/tf_util.py:58: The name tf.ConfigProto is deprecated. Please use tf.compat.v1.ConfigProto instead.\n",
      "\n",
      "WARNING:tensorflow:From /home/hayley/anaconda3/envs/benelot/lib/python3.5/site-packages/stable_baselines/common/tf_util.py:67: The name tf.Session is deprecated. Please use tf.compat.v1.Session instead.\n",
      "\n",
      "WARNING:tensorflow:From /home/hayley/anaconda3/envs/benelot/lib/python3.5/site-packages/stable_baselines/common/policies.py:115: The name tf.variable_scope is deprecated. Please use tf.compat.v1.variable_scope instead.\n",
      "\n",
      "WARNING:tensorflow:From /home/hayley/anaconda3/envs/benelot/lib/python3.5/site-packages/stable_baselines/common/input.py:25: The name tf.placeholder is deprecated. Please use tf.compat.v1.placeholder instead.\n",
      "\n",
      "WARNING:tensorflow:From /home/hayley/anaconda3/envs/benelot/lib/python3.5/site-packages/stable_baselines/common/policies.py:560: flatten (from tensorflow.python.layers.core) is deprecated and will be removed in a future version.\n",
      "Instructions for updating:\n",
      "Use keras.layers.flatten instead.\n",
      "WARNING:tensorflow:From /home/hayley/anaconda3/envs/benelot/lib/python3.5/site-packages/stable_baselines/a2c/utils.py:156: The name tf.get_variable is deprecated. Please use tf.compat.v1.get_variable instead.\n",
      "\n",
      "WARNING:tensorflow:From /home/hayley/anaconda3/envs/benelot/lib/python3.5/site-packages/stable_baselines/ppo2/ppo2.py:194: The name tf.summary.scalar is deprecated. Please use tf.compat.v1.summary.scalar instead.\n",
      "\n",
      "WARNING:tensorflow:From /home/hayley/anaconda3/envs/benelot/lib/python3.5/site-packages/tensorflow/python/ops/math_grad.py:1250: add_dispatch_support.<locals>.wrapper (from tensorflow.python.ops.array_ops) is deprecated and will be removed in a future version.\n",
      "Instructions for updating:\n",
      "Use tf.where in 2.0, which has the same broadcast rule as np.where\n",
      "WARNING:tensorflow:From /home/hayley/anaconda3/envs/benelot/lib/python3.5/site-packages/stable_baselines/ppo2/ppo2.py:210: The name tf.train.AdamOptimizer is deprecated. Please use tf.compat.v1.train.AdamOptimizer instead.\n",
      "\n",
      "WARNING:tensorflow:From /home/hayley/anaconda3/envs/benelot/lib/python3.5/site-packages/stable_baselines/ppo2/ppo2.py:246: The name tf.summary.merge_all is deprecated. Please use tf.compat.v1.summary.merge_all instead.\n",
      "\n"
     ]
    }
   ],
   "source": [
    "model = PPO2('MlpPolicy', env, gamma=0.99, n_steps=256, ent_coef=0.0, learning_rate=2.5e-4, \n",
    "              lam=0.95, nminibatches=32, noptepochs=10, cliprange=0.2,  verbose=1)"
   ]
  },
  {
   "cell_type": "code",
   "execution_count": 6,
   "metadata": {},
   "outputs": [
    {
     "name": "stdout",
     "output_type": "stream",
     "text": [
      "<AntBulletEnv instance>\n"
     ]
    }
   ],
   "source": [
    "print(env)"
   ]
  },
  {
   "cell_type": "code",
   "execution_count": null,
   "metadata": {
    "scrolled": true
   },
   "outputs": [
    {
     "name": "stdout",
     "output_type": "stream",
     "text": [
      "restoreState self.stateId: 0\n",
      "[0. 0. 0. 0.]\n",
      "-------------------------------------\n",
      "| approxkl           | 0.008263671  |\n",
      "| clipfrac           | 0.103515625  |\n",
      "| explained_variance | 0.0332       |\n",
      "| fps                | 164          |\n",
      "| n_updates          | 1            |\n",
      "| policy_entropy     | 11.345223    |\n",
      "| policy_loss        | -0.015184489 |\n",
      "| serial_timesteps   | 256          |\n",
      "| time_elapsed       | 2.62e-06     |\n",
      "| total_timesteps    | 256          |\n",
      "| value_loss         | 20.09955     |\n",
      "-------------------------------------\n",
      "restoreState self.stateId: 0\n",
      "[0. 0. 0. 0.]\n",
      "------------------------------------\n",
      "| approxkl           | 0.012049732 |\n",
      "| clipfrac           | 0.17539063  |\n",
      "| explained_variance | -0.0177     |\n",
      "| fps                | 223         |\n",
      "| n_updates          | 2           |\n",
      "| policy_entropy     | 11.35161    |\n",
      "| policy_loss        | -0.02859874 |\n",
      "| serial_timesteps   | 512         |\n",
      "| time_elapsed       | 1.56        |\n",
      "| total_timesteps    | 512         |\n",
      "| value_loss         | 27.100626   |\n",
      "------------------------------------\n",
      "-------------------------------------\n",
      "| approxkl           | 0.009213271  |\n",
      "| clipfrac           | 0.13515624   |\n",
      "| explained_variance | -0.0289      |\n",
      "| fps                | 172          |\n",
      "| n_updates          | 3            |\n",
      "| policy_entropy     | 11.372141    |\n",
      "| policy_loss        | -0.014841007 |\n",
      "| serial_timesteps   | 768          |\n",
      "| time_elapsed       | 2.71         |\n",
      "| total_timesteps    | 768          |\n",
      "| value_loss         | 21.934587    |\n",
      "-------------------------------------\n",
      "-------------------------------------\n",
      "| approxkl           | 0.010546527  |\n",
      "| clipfrac           | 0.15703125   |\n",
      "| explained_variance | -0.000536    |\n",
      "| fps                | 162          |\n",
      "| n_updates          | 4            |\n",
      "| policy_entropy     | 11.399597    |\n",
      "| policy_loss        | -0.012743731 |\n",
      "| serial_timesteps   | 1024         |\n",
      "| time_elapsed       | 4.19         |\n",
      "| total_timesteps    | 1024         |\n",
      "| value_loss         | 5.2379866    |\n",
      "-------------------------------------\n",
      "-------------------------------------\n",
      "| approxkl           | 0.013070054  |\n",
      "| clipfrac           | 0.20078126   |\n",
      "| explained_variance | 0.0138       |\n",
      "| fps                | 203          |\n",
      "| n_updates          | 5            |\n",
      "| policy_entropy     | 11.398382    |\n",
      "| policy_loss        | -0.020413842 |\n",
      "| serial_timesteps   | 1280         |\n",
      "| time_elapsed       | 5.77         |\n",
      "| total_timesteps    | 1280         |\n",
      "| value_loss         | 16.50282     |\n",
      "-------------------------------------\n",
      "-------------------------------------\n",
      "| approxkl           | 0.009336466  |\n",
      "| clipfrac           | 0.13828126   |\n",
      "| explained_variance | -0.0215      |\n",
      "| fps                | 193          |\n",
      "| n_updates          | 6            |\n",
      "| policy_entropy     | 11.401022    |\n",
      "| policy_loss        | -0.008388968 |\n",
      "| serial_timesteps   | 1536         |\n",
      "| time_elapsed       | 7.02         |\n",
      "| total_timesteps    | 1536         |\n",
      "| value_loss         | 17.221012    |\n",
      "-------------------------------------\n",
      "-------------------------------------\n",
      "| approxkl           | 0.008789284  |\n",
      "| clipfrac           | 0.12734374   |\n",
      "| explained_variance | -0.00472     |\n",
      "| fps                | 192          |\n",
      "| n_updates          | 7            |\n",
      "| policy_entropy     | 11.398305    |\n",
      "| policy_loss        | -0.010846258 |\n",
      "| serial_timesteps   | 1792         |\n",
      "| time_elapsed       | 8.35         |\n",
      "| total_timesteps    | 1792         |\n",
      "| value_loss         | 9.586704     |\n",
      "-------------------------------------\n",
      "------------------------------------\n",
      "| approxkl           | 0.012609077 |\n",
      "| clipfrac           | 0.20117188  |\n",
      "| explained_variance | -0.0148     |\n",
      "| fps                | 209         |\n",
      "| n_updates          | 8           |\n",
      "| policy_entropy     | 11.386712   |\n",
      "| policy_loss        | -0.0173839  |\n",
      "| serial_timesteps   | 2048        |\n",
      "| time_elapsed       | 9.68        |\n",
      "| total_timesteps    | 2048        |\n",
      "| value_loss         | 11.78914    |\n",
      "------------------------------------\n",
      "-------------------------------------\n",
      "| approxkl           | 0.0054462943 |\n",
      "| clipfrac           | 0.055859376  |\n",
      "| explained_variance | -0.0119      |\n",
      "| fps                | 195          |\n",
      "| n_updates          | 9            |\n",
      "| policy_entropy     | 11.399454    |\n",
      "| policy_loss        | -0.004530802 |\n",
      "| serial_timesteps   | 2304         |\n",
      "| time_elapsed       | 10.9         |\n",
      "| total_timesteps    | 2304         |\n",
      "| value_loss         | 18.596388    |\n",
      "-------------------------------------\n"
     ]
    }
   ],
   "source": [
    "model.learn(total_timesteps=10000)"
   ]
  },
  {
   "cell_type": "code",
   "execution_count": 8,
   "metadata": {},
   "outputs": [],
   "source": [
    "# Save the agent\n",
    "model.save(\"ant_trained\")\n",
    "del model  # delete trained model to demonstrate loading"
   ]
  },
  {
   "cell_type": "code",
   "execution_count": 9,
   "metadata": {},
   "outputs": [
    {
     "name": "stdout",
     "output_type": "stream",
     "text": [
      "Loading a model without an environment, this model cannot be trained until it has a valid environment.\n",
      "restoreState self.stateId: 0\n"
     ]
    }
   ],
   "source": [
    "# Load the trained agent\n",
    "model = PPO2.load(\"/home/hayley/.mujoco/stable-baseline/ant_trained\")\n",
    "\n",
    "# Enjoy trained agent\n",
    "obs = env.reset()\n",
    "for i in range(10000):\n",
    "    action, _states = model.predict(obs)\n",
    "    obs, rewards, dones, info = env.step(action)\n",
    "    env.render()"
   ]
  },
  {
   "cell_type": "code",
   "execution_count": null,
   "metadata": {},
   "outputs": [],
   "source": []
  },
  {
   "cell_type": "markdown",
   "metadata": {},
   "source": [
    "#### Laikago"
   ]
  },
  {
   "cell_type": "code",
   "execution_count": 1,
   "metadata": {
    "scrolled": true
   },
   "outputs": [
    {
     "name": "stderr",
     "output_type": "stream",
     "text": [
      "/home/hayley/anaconda3/envs/benelot/lib/python3.5/site-packages/tensorflow/python/framework/dtypes.py:516: FutureWarning: Passing (type, 1) or '1type' as a synonym of type is deprecated; in a future version of numpy, it will be understood as (type, (1,)) / '(1,)type'.\n",
      "  _np_qint8 = np.dtype([(\"qint8\", np.int8, 1)])\n",
      "/home/hayley/anaconda3/envs/benelot/lib/python3.5/site-packages/tensorflow/python/framework/dtypes.py:517: FutureWarning: Passing (type, 1) or '1type' as a synonym of type is deprecated; in a future version of numpy, it will be understood as (type, (1,)) / '(1,)type'.\n",
      "  _np_quint8 = np.dtype([(\"quint8\", np.uint8, 1)])\n",
      "/home/hayley/anaconda3/envs/benelot/lib/python3.5/site-packages/tensorflow/python/framework/dtypes.py:518: FutureWarning: Passing (type, 1) or '1type' as a synonym of type is deprecated; in a future version of numpy, it will be understood as (type, (1,)) / '(1,)type'.\n",
      "  _np_qint16 = np.dtype([(\"qint16\", np.int16, 1)])\n",
      "/home/hayley/anaconda3/envs/benelot/lib/python3.5/site-packages/tensorflow/python/framework/dtypes.py:519: FutureWarning: Passing (type, 1) or '1type' as a synonym of type is deprecated; in a future version of numpy, it will be understood as (type, (1,)) / '(1,)type'.\n",
      "  _np_quint16 = np.dtype([(\"quint16\", np.uint16, 1)])\n",
      "/home/hayley/anaconda3/envs/benelot/lib/python3.5/site-packages/tensorflow/python/framework/dtypes.py:520: FutureWarning: Passing (type, 1) or '1type' as a synonym of type is deprecated; in a future version of numpy, it will be understood as (type, (1,)) / '(1,)type'.\n",
      "  _np_qint32 = np.dtype([(\"qint32\", np.int32, 1)])\n",
      "/home/hayley/anaconda3/envs/benelot/lib/python3.5/site-packages/tensorflow/python/framework/dtypes.py:525: FutureWarning: Passing (type, 1) or '1type' as a synonym of type is deprecated; in a future version of numpy, it will be understood as (type, (1,)) / '(1,)type'.\n",
      "  np_resource = np.dtype([(\"resource\", np.ubyte, 1)])\n",
      "/home/hayley/anaconda3/envs/benelot/lib/python3.5/site-packages/tensorboard/compat/tensorflow_stub/dtypes.py:541: FutureWarning: Passing (type, 1) or '1type' as a synonym of type is deprecated; in a future version of numpy, it will be understood as (type, (1,)) / '(1,)type'.\n",
      "  _np_qint8 = np.dtype([(\"qint8\", np.int8, 1)])\n",
      "/home/hayley/anaconda3/envs/benelot/lib/python3.5/site-packages/tensorboard/compat/tensorflow_stub/dtypes.py:542: FutureWarning: Passing (type, 1) or '1type' as a synonym of type is deprecated; in a future version of numpy, it will be understood as (type, (1,)) / '(1,)type'.\n",
      "  _np_quint8 = np.dtype([(\"quint8\", np.uint8, 1)])\n",
      "/home/hayley/anaconda3/envs/benelot/lib/python3.5/site-packages/tensorboard/compat/tensorflow_stub/dtypes.py:543: FutureWarning: Passing (type, 1) or '1type' as a synonym of type is deprecated; in a future version of numpy, it will be understood as (type, (1,)) / '(1,)type'.\n",
      "  _np_qint16 = np.dtype([(\"qint16\", np.int16, 1)])\n",
      "/home/hayley/anaconda3/envs/benelot/lib/python3.5/site-packages/tensorboard/compat/tensorflow_stub/dtypes.py:544: FutureWarning: Passing (type, 1) or '1type' as a synonym of type is deprecated; in a future version of numpy, it will be understood as (type, (1,)) / '(1,)type'.\n",
      "  _np_quint16 = np.dtype([(\"quint16\", np.uint16, 1)])\n",
      "/home/hayley/anaconda3/envs/benelot/lib/python3.5/site-packages/tensorboard/compat/tensorflow_stub/dtypes.py:545: FutureWarning: Passing (type, 1) or '1type' as a synonym of type is deprecated; in a future version of numpy, it will be understood as (type, (1,)) / '(1,)type'.\n",
      "  _np_qint32 = np.dtype([(\"qint32\", np.int32, 1)])\n",
      "/home/hayley/anaconda3/envs/benelot/lib/python3.5/site-packages/tensorboard/compat/tensorflow_stub/dtypes.py:550: FutureWarning: Passing (type, 1) or '1type' as a synonym of type is deprecated; in a future version of numpy, it will be understood as (type, (1,)) / '(1,)type'.\n",
      "  np_resource = np.dtype([(\"resource\", np.ubyte, 1)])\n"
     ]
    }
   ],
   "source": [
    "import gym\n",
    "import pybullet as p\n",
    "import pybullet_data as pd\n",
    "\n",
    "import time\n",
    "\n",
    "from stable_baselines import PPO2\n",
    "from stable_baselines.common.evaluation import evaluate_policy\n",
    "\n",
    "\n",
    "from scene_stadium import SinglePlayerStadiumScene\n",
    "from env_bases import MJCFBaseBulletEnv\n",
    "import numpy as np\n",
    "import pybullet\n",
    "from robot_locomotors import Ant, Laikago\n",
    "\n",
    "\n",
    "class WalkerBaseBulletEnv(MJCFBaseBulletEnv):\n",
    "\n",
    "    def __init__(self, robot, render=False):\n",
    "        # print(\"WalkerBase::__init__ start\")\n",
    "        self.camera_x = 0\n",
    "        self.walk_target_x = 1e3  # kilometer away\n",
    "        self.walk_target_y = 0\n",
    "        self.stateId = -1\n",
    "        MJCFBaseBulletEnv.__init__(self, robot, render)\n",
    "\n",
    "    \n",
    "    #0.0165 / 4\n",
    "    #1./500\n",
    "    def create_single_player_scene(self, bullet_client):\n",
    "        self.stadium_scene = SinglePlayerStadiumScene(bullet_client,\n",
    "                                                  gravity=9.8,\n",
    "                                                  timestep=1./500, \n",
    "                                                  frame_skip=4)\n",
    "        return self.stadium_scene\n",
    "\n",
    "    def reset(self):\n",
    "        if (self.stateId >= 0):\n",
    "            #print(\"restoreState self.stateId:\",self.stateId)\n",
    "            self._p.restoreState(self.stateId)\n",
    "\n",
    "        \n",
    "        r = MJCFBaseBulletEnv.reset(self)\n",
    "        self._p.configureDebugVisualizer(pybullet.COV_ENABLE_RENDERING, 0)\n",
    "\n",
    "        # 여기가 ground plane \n",
    "        self.parts, self.jdict, self.ordered_joints, self.robot_body = self.robot.addToScene(\n",
    "            self._p, self.stadium_scene.ground_plane_mjcf)\n",
    "        \n",
    "        \n",
    "        # 여기가 joint 이름들\n",
    "        self.ground_ids = set([(self.parts[f].bodies[self.parts[f].bodyIndex],\n",
    "                            self.parts[f].bodyPartIndex) for f in self.foot_ground_object_names])\n",
    "        #print(self.ground_ids)\n",
    "        \n",
    "        self._p.configureDebugVisualizer(pybullet.COV_ENABLE_RENDERING, 1)\n",
    "        \n",
    "        \n",
    "        if (self.stateId < 0):\n",
    "            self.stateId = self._p.saveState()\n",
    "            print(\"saving state self.stateId:\",self.stateId)\n",
    "            \n",
    "\n",
    "        return r\n",
    "\n",
    "    def _isDone(self):\n",
    "        return self._alive < 0\n",
    "\n",
    "    def move_robot(self, init_x, init_y, init_z):\n",
    "        \n",
    "        \"Used by multiplayer stadium to move sideways, to another running lane.\"\n",
    "        self.cpp_robot.query_position()\n",
    "        pose = self.cpp_robot.root_part.pose()\n",
    "        #print(pose)\n",
    "        \n",
    "        pose.move_xyz(init_x, init_y, init_z)  \n",
    "        # Works because robot loads around (0,0,0), and some robots have z != 0 that is left intact\n",
    "        \n",
    "        self.cpp_robot.set_pose(pose)\n",
    "\n",
    "    electricity_cost = -2.0  # cost for using motors -- this parameter should be carefully tuned against reward for making progress, other values less improtant\n",
    "    stall_torque_cost = -0.1  # cost for running electric current through a motor even at zero rotational speed, small\n",
    "    foot_collision_cost = -1.0  # touches another leg, or other objects, that cost makes robot avoid smashing feet into itself\n",
    "    foot_ground_object_names = set([\"floor\"])  # to distinguish ground and other objects\n",
    "    joints_at_limit_cost = -0.1  # discourage stuck joints\n",
    "\n",
    "    def step(self, a):\n",
    "        \n",
    "        if not self.scene.multiplayer:  # if multiplayer, action first applied to all robots, then global step() called, then _step() for all robots with the same actions\n",
    "            #print(\"not multiplayer\")\n",
    "            self.robot.apply_action(a)\n",
    "            self.scene.global_step()\n",
    "\n",
    "        state = self.robot.calc_state()  # also calculates self.joints_at_limit\n",
    "\n",
    "        self._alive = float(self.robot.alive_bonus(\n",
    "                state[0] + self.robot.initial_z,\n",
    "                self.robot.body_rpy[1]))  \n",
    "                # state[0] is body height above ground, body_rpy[1] is pitch\n",
    "            \n",
    "        done = self._isDone()\n",
    "        \n",
    "        if not np.isfinite(state).all():\n",
    "            print(\"~INF~\", state)\n",
    "            done = True\n",
    "\n",
    "        potential_old = self.potential\n",
    "        self.potential = self.robot.calc_potential()\n",
    "        progress = float(self.potential - potential_old)\n",
    "\n",
    "        feet_collision_cost = 0.0\n",
    "        \n",
    "        for i, f in enumerate(self.robot.feet):  \n",
    "            # TODO: Maybe calculating feet contacts could be done within the robot code\n",
    "            \n",
    "            contact_ids = set((x[2], x[4]) for x in f.contact_list())\n",
    "            #print(\"CONTACT OF '%d' WITH %d\" % (contact_ids, \",\".join(contact_names)) )\n",
    "            #print(contact_ids)\n",
    "            \n",
    "            if (self.ground_ids & contact_ids):\n",
    "                #see Issue 63: https://github.com/openai/roboschool/issues/63\n",
    "                #feet_collision_cost += self.foot_collision_cost\n",
    "                self.robot.feet_contact[i] = 1.0\n",
    "                \n",
    "            else:\n",
    "                self.robot.feet_contact[i] = 0.0\n",
    "\n",
    "        electricity_cost = self.electricity_cost * float(np.abs(a * self.robot.joint_speeds).mean())\n",
    "        electricity_cost += self.stall_torque_cost * float(np.square(a).mean())\n",
    "\n",
    "        joints_at_limit_cost = float(self.joints_at_limit_cost * self.robot.joints_at_limit)\n",
    "        \n",
    "        debugmode = 0\n",
    "        if (debugmode):\n",
    "            print(\"alive=\")\n",
    "            print(self._alive)\n",
    "            print(\"progress\")\n",
    "            print(progress)\n",
    "            print(\"electricity_cost\")\n",
    "            print(electricity_cost)\n",
    "            print(\"joints_at_limit_cost\")\n",
    "            print(joints_at_limit_cost)\n",
    "            print(\"feet_collision_cost\")\n",
    "            print(feet_collision_cost)\n",
    "\n",
    "        self.rewards = [\n",
    "            self._alive, progress, electricity_cost, joints_at_limit_cost, feet_collision_cost\n",
    "        ]\n",
    "        \n",
    "        if (debugmode):\n",
    "            print(\"rewards=\")\n",
    "            print(self.rewards)\n",
    "            print(\"sum rewards\")\n",
    "            print(sum(self.rewards))\n",
    "            \n",
    "        self.HUD(state, a, done)\n",
    "        self.reward += sum(self.rewards)\n",
    "\n",
    "        return state, sum(self.rewards), bool(done), {}\n",
    "\n",
    "    def camera_adjust(self):\n",
    "        x, y, z = self.body_xyz\n",
    "        self.camera_x = 0.98 * self.camera_x + (1 - 0.98) * x\n",
    "        self.camera.move_and_look_at(self.camera_x, y - 2.0, 1.4, x, y, 1.0)\n",
    "\n",
    "\n",
    "\n",
    "\n",
    "class AntBulletEnv(WalkerBaseBulletEnv):\n",
    "\n",
    "    def __init__(self, render=False):\n",
    "        self.robot = Ant()\n",
    "        WalkerBaseBulletEnv.__init__(self, self.robot, render)\n",
    "\n",
    "class LaikagoBulletEnv(WalkerBaseBulletEnv):\n",
    "\n",
    "    def __init__(self, render=False):\n",
    "        self.robot = Laikago()\n",
    "        WalkerBaseBulletEnv.__init__(self, self.robot, render)\n",
    "\n"
   ]
  },
  {
   "cell_type": "code",
   "execution_count": 2,
   "metadata": {
    "scrolled": true
   },
   "outputs": [
    {
     "name": "stderr",
     "output_type": "stream",
     "text": [
      "/home/hayley/.mujoco/gym/gym/logger.py:30: UserWarning: \u001b[33mWARN: Box bound precision lowered by casting to float32\u001b[0m\n",
      "  warnings.warn(colorize('%s: %s'%('WARN', msg % args), 'yellow'))\n"
     ]
    }
   ],
   "source": [
    "env = LaikagoBulletEnv() \n",
    "\n",
    "# register 하는거는 옵션이라서 이거 없어도 되야함"
   ]
  },
  {
   "cell_type": "code",
   "execution_count": 3,
   "metadata": {},
   "outputs": [
    {
     "name": "stdout",
     "output_type": "stream",
     "text": [
      "Box(36,)\n",
      "Box(12,)\n",
      "[-0.25802284 -0.42228353 -0.36002916  0.6077592   0.40304548 -0.67905766\n",
      "  0.89339375  0.7148967   0.9536847   0.8949034  -0.04416413 -0.39381394]\n"
     ]
    }
   ],
   "source": [
    "env.render()\n",
    "\n",
    "print(env.observation_space)\n",
    "print(env.action_space)\n",
    "print(env.action_space.sample())"
   ]
  },
  {
   "cell_type": "code",
   "execution_count": 4,
   "metadata": {
    "scrolled": true
   },
   "outputs": [
    {
     "name": "stdout",
     "output_type": "stream",
     "text": [
      "/home/hayley/.mujoco/stable-baseline/laikago/laikago.urdf\n",
      "((0.0, 0.0, 0.0), (0.0, 0.0, 0.0, 1.0))\n",
      "13\n",
      "saving state self.stateId: 0\n"
     ]
    }
   ],
   "source": [
    "observation = env.reset()"
   ]
  },
  {
   "cell_type": "code",
   "execution_count": 5,
   "metadata": {
    "scrolled": true
   },
   "outputs": [
    {
     "name": "stdout",
     "output_type": "stream",
     "text": [
      "Wrapping the env in a DummyVecEnv.\n",
      "WARNING:tensorflow:From /home/hayley/anaconda3/envs/benelot/lib/python3.5/site-packages/stable_baselines/common/tf_util.py:58: The name tf.ConfigProto is deprecated. Please use tf.compat.v1.ConfigProto instead.\n",
      "\n",
      "WARNING:tensorflow:From /home/hayley/anaconda3/envs/benelot/lib/python3.5/site-packages/stable_baselines/common/tf_util.py:67: The name tf.Session is deprecated. Please use tf.compat.v1.Session instead.\n",
      "\n",
      "WARNING:tensorflow:From /home/hayley/anaconda3/envs/benelot/lib/python3.5/site-packages/stable_baselines/common/policies.py:115: The name tf.variable_scope is deprecated. Please use tf.compat.v1.variable_scope instead.\n",
      "\n",
      "WARNING:tensorflow:From /home/hayley/anaconda3/envs/benelot/lib/python3.5/site-packages/stable_baselines/common/input.py:25: The name tf.placeholder is deprecated. Please use tf.compat.v1.placeholder instead.\n",
      "\n",
      "WARNING:tensorflow:From /home/hayley/anaconda3/envs/benelot/lib/python3.5/site-packages/stable_baselines/common/policies.py:560: flatten (from tensorflow.python.layers.core) is deprecated and will be removed in a future version.\n",
      "Instructions for updating:\n",
      "Use keras.layers.flatten instead.\n",
      "WARNING:tensorflow:From /home/hayley/anaconda3/envs/benelot/lib/python3.5/site-packages/stable_baselines/a2c/utils.py:156: The name tf.get_variable is deprecated. Please use tf.compat.v1.get_variable instead.\n",
      "\n",
      "WARNING:tensorflow:From /home/hayley/anaconda3/envs/benelot/lib/python3.5/site-packages/stable_baselines/ppo2/ppo2.py:194: The name tf.summary.scalar is deprecated. Please use tf.compat.v1.summary.scalar instead.\n",
      "\n",
      "WARNING:tensorflow:From /home/hayley/anaconda3/envs/benelot/lib/python3.5/site-packages/tensorflow/python/ops/math_grad.py:1250: add_dispatch_support.<locals>.wrapper (from tensorflow.python.ops.array_ops) is deprecated and will be removed in a future version.\n",
      "Instructions for updating:\n",
      "Use tf.where in 2.0, which has the same broadcast rule as np.where\n",
      "WARNING:tensorflow:From /home/hayley/anaconda3/envs/benelot/lib/python3.5/site-packages/stable_baselines/ppo2/ppo2.py:210: The name tf.train.AdamOptimizer is deprecated. Please use tf.compat.v1.train.AdamOptimizer instead.\n",
      "\n",
      "WARNING:tensorflow:From /home/hayley/anaconda3/envs/benelot/lib/python3.5/site-packages/stable_baselines/ppo2/ppo2.py:246: The name tf.summary.merge_all is deprecated. Please use tf.compat.v1.summary.merge_all instead.\n",
      "\n"
     ]
    }
   ],
   "source": [
    "model = PPO2('MlpPolicy', env, gamma=0.99, n_steps=256, ent_coef=0.0, learning_rate=2.5e-4, \n",
    "              lam=0.95, nminibatches=32, noptepochs=10, cliprange=0.2,  verbose=1, tensorboard_log=\"./laikago_trained_log/\")"
   ]
  },
  {
   "cell_type": "code",
   "execution_count": 6,
   "metadata": {
    "scrolled": true
   },
   "outputs": [
    {
     "name": "stdout",
     "output_type": "stream",
     "text": [
      "<LaikagoBulletEnv instance>\n"
     ]
    }
   ],
   "source": [
    "print(env)"
   ]
  },
  {
   "cell_type": "code",
   "execution_count": null,
   "metadata": {
    "scrolled": true
   },
   "outputs": [
    {
     "name": "stdout",
     "output_type": "stream",
     "text": [
      "WARNING:tensorflow:From /home/hayley/anaconda3/envs/benelot/lib/python3.5/site-packages/stable_baselines/common/base_class.py:1082: The name tf.summary.FileWriter is deprecated. Please use tf.compat.v1.summary.FileWriter instead.\n",
      "\n",
      "-------------------------------------\n",
      "| approxkl           | 0.018927079  |\n",
      "| clipfrac           | 0.30664062   |\n",
      "| explained_variance | 0.000368     |\n",
      "| fps                | 26           |\n",
      "| n_updates          | 1            |\n",
      "| policy_entropy     | 16.91876     |\n",
      "| policy_loss        | -0.056863666 |\n",
      "| serial_timesteps   | 256          |\n",
      "| time_elapsed       | 2.62e-06     |\n",
      "| total_timesteps    | 256          |\n",
      "| value_loss         | 21.564743    |\n",
      "-------------------------------------\n"
     ]
    }
   ],
   "source": [
    "# 앞으로 좀 걸어나가야 하는데 제자리에서만 움직임 (뭔가 컨트롤러가 땅을 집고 못 걷는 느낌?)\n",
    "\n",
    "model.learn(total_timesteps=10000)"
   ]
  },
  {
   "cell_type": "code",
   "execution_count": null,
   "metadata": {},
   "outputs": [],
   "source": [
    "# Save the agent\n",
    "model.save(\"laikago_trained\")\n",
    "del model  # delete trained model to demonstrate loading"
   ]
  },
  {
   "cell_type": "code",
   "execution_count": null,
   "metadata": {},
   "outputs": [
    {
     "name": "stdout",
     "output_type": "stream",
     "text": [
      "Loading a model without an environment, this model cannot be trained until it has a valid environment.\n"
     ]
    }
   ],
   "source": [
    "# Load the trained agent\n",
    "model = PPO2.load(\"/home/hayley/.mujoco/stable-baseline/laikago_trained\")\n",
    "\n",
    "# Enjoy trained agent\n",
    "obs = env.reset()\n",
    "for i in range(10000):\n",
    "    action, _states = model.predict(obs)\n",
    "    obs, rewards, dones, info = env.step(action)\n",
    "    env.render()"
   ]
  },
  {
   "cell_type": "code",
   "execution_count": null,
   "metadata": {},
   "outputs": [],
   "source": []
  },
  {
   "cell_type": "code",
   "execution_count": null,
   "metadata": {},
   "outputs": [],
   "source": []
  },
  {
   "cell_type": "code",
   "execution_count": null,
   "metadata": {},
   "outputs": [],
   "source": []
  },
  {
   "cell_type": "code",
   "execution_count": null,
   "metadata": {},
   "outputs": [],
   "source": []
  },
  {
   "cell_type": "code",
   "execution_count": null,
   "metadata": {},
   "outputs": [],
   "source": []
  },
  {
   "cell_type": "code",
   "execution_count": null,
   "metadata": {},
   "outputs": [],
   "source": []
  }
 ],
 "metadata": {
  "kernelspec": {
   "display_name": "Python 3",
   "language": "python",
   "name": "python3"
  },
  "language_info": {
   "codemirror_mode": {
    "name": "ipython",
    "version": 3
   },
   "file_extension": ".py",
   "mimetype": "text/x-python",
   "name": "python",
   "nbconvert_exporter": "python",
   "pygments_lexer": "ipython3",
   "version": "3.5.6"
  }
 },
 "nbformat": 4,
 "nbformat_minor": 2
}
